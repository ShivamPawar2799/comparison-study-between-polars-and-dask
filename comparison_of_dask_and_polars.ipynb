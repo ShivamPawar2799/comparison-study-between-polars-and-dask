{
  "nbformat": 4,
  "nbformat_minor": 0,
  "metadata": {
    "colab": {
      "provenance": []
    },
    "kernelspec": {
      "name": "python3",
      "display_name": "Python 3"
    },
    "language_info": {
      "name": "python"
    }
  },
  "cells": [
    {
      "cell_type": "code",
      "source": [
        "pip install dask"
      ],
      "metadata": {
        "id": "cI2Byv8f7gkV",
        "outputId": "78a457d6-9bbe-451a-a57c-6e0c4a5e04c7",
        "colab": {
          "base_uri": "https://localhost:8080/"
        }
      },
      "execution_count": null,
      "outputs": [
        {
          "output_type": "stream",
          "name": "stdout",
          "text": [
            "Requirement already satisfied: dask in /usr/local/lib/python3.10/dist-packages (2024.10.0)\n",
            "Requirement already satisfied: click>=8.1 in /usr/local/lib/python3.10/dist-packages (from dask) (8.1.7)\n",
            "Requirement already satisfied: cloudpickle>=3.0.0 in /usr/local/lib/python3.10/dist-packages (from dask) (3.1.0)\n",
            "Requirement already satisfied: fsspec>=2021.09.0 in /usr/local/lib/python3.10/dist-packages (from dask) (2024.10.0)\n",
            "Requirement already satisfied: packaging>=20.0 in /usr/local/lib/python3.10/dist-packages (from dask) (24.2)\n",
            "Requirement already satisfied: partd>=1.4.0 in /usr/local/lib/python3.10/dist-packages (from dask) (1.4.2)\n",
            "Requirement already satisfied: pyyaml>=5.3.1 in /usr/local/lib/python3.10/dist-packages (from dask) (6.0.2)\n",
            "Requirement already satisfied: toolz>=0.10.0 in /usr/local/lib/python3.10/dist-packages (from dask) (0.12.1)\n",
            "Requirement already satisfied: importlib-metadata>=4.13.0 in /usr/local/lib/python3.10/dist-packages (from dask) (8.5.0)\n",
            "Requirement already satisfied: zipp>=3.20 in /usr/local/lib/python3.10/dist-packages (from importlib-metadata>=4.13.0->dask) (3.21.0)\n",
            "Requirement already satisfied: locket in /usr/local/lib/python3.10/dist-packages (from partd>=1.4.0->dask) (1.0.0)\n"
          ]
        }
      ]
    },
    {
      "cell_type": "code",
      "execution_count": null,
      "metadata": {
        "id": "5s8r4uzi7Q3e",
        "colab": {
          "base_uri": "https://localhost:8080/",
          "height": 93
        },
        "outputId": "0128935e-6d20-4a48-d314-700c314cc5e5"
      },
      "outputs": [
        {
          "output_type": "display_data",
          "data": {
            "text/plain": [
              "<IPython.core.display.HTML object>"
            ],
            "text/html": [
              "\n",
              "     <input type=\"file\" id=\"files-9c906025-29b4-425b-bbd2-9f18efcfd927\" name=\"files[]\" multiple disabled\n",
              "        style=\"border:none\" />\n",
              "     <output id=\"result-9c906025-29b4-425b-bbd2-9f18efcfd927\">\n",
              "      Upload widget is only available when the cell has been executed in the\n",
              "      current browser session. Please rerun this cell to enable.\n",
              "      </output>\n",
              "      <script>// Copyright 2017 Google LLC\n",
              "//\n",
              "// Licensed under the Apache License, Version 2.0 (the \"License\");\n",
              "// you may not use this file except in compliance with the License.\n",
              "// You may obtain a copy of the License at\n",
              "//\n",
              "//      http://www.apache.org/licenses/LICENSE-2.0\n",
              "//\n",
              "// Unless required by applicable law or agreed to in writing, software\n",
              "// distributed under the License is distributed on an \"AS IS\" BASIS,\n",
              "// WITHOUT WARRANTIES OR CONDITIONS OF ANY KIND, either express or implied.\n",
              "// See the License for the specific language governing permissions and\n",
              "// limitations under the License.\n",
              "\n",
              "/**\n",
              " * @fileoverview Helpers for google.colab Python module.\n",
              " */\n",
              "(function(scope) {\n",
              "function span(text, styleAttributes = {}) {\n",
              "  const element = document.createElement('span');\n",
              "  element.textContent = text;\n",
              "  for (const key of Object.keys(styleAttributes)) {\n",
              "    element.style[key] = styleAttributes[key];\n",
              "  }\n",
              "  return element;\n",
              "}\n",
              "\n",
              "// Max number of bytes which will be uploaded at a time.\n",
              "const MAX_PAYLOAD_SIZE = 100 * 1024;\n",
              "\n",
              "function _uploadFiles(inputId, outputId) {\n",
              "  const steps = uploadFilesStep(inputId, outputId);\n",
              "  const outputElement = document.getElementById(outputId);\n",
              "  // Cache steps on the outputElement to make it available for the next call\n",
              "  // to uploadFilesContinue from Python.\n",
              "  outputElement.steps = steps;\n",
              "\n",
              "  return _uploadFilesContinue(outputId);\n",
              "}\n",
              "\n",
              "// This is roughly an async generator (not supported in the browser yet),\n",
              "// where there are multiple asynchronous steps and the Python side is going\n",
              "// to poll for completion of each step.\n",
              "// This uses a Promise to block the python side on completion of each step,\n",
              "// then passes the result of the previous step as the input to the next step.\n",
              "function _uploadFilesContinue(outputId) {\n",
              "  const outputElement = document.getElementById(outputId);\n",
              "  const steps = outputElement.steps;\n",
              "\n",
              "  const next = steps.next(outputElement.lastPromiseValue);\n",
              "  return Promise.resolve(next.value.promise).then((value) => {\n",
              "    // Cache the last promise value to make it available to the next\n",
              "    // step of the generator.\n",
              "    outputElement.lastPromiseValue = value;\n",
              "    return next.value.response;\n",
              "  });\n",
              "}\n",
              "\n",
              "/**\n",
              " * Generator function which is called between each async step of the upload\n",
              " * process.\n",
              " * @param {string} inputId Element ID of the input file picker element.\n",
              " * @param {string} outputId Element ID of the output display.\n",
              " * @return {!Iterable<!Object>} Iterable of next steps.\n",
              " */\n",
              "function* uploadFilesStep(inputId, outputId) {\n",
              "  const inputElement = document.getElementById(inputId);\n",
              "  inputElement.disabled = false;\n",
              "\n",
              "  const outputElement = document.getElementById(outputId);\n",
              "  outputElement.innerHTML = '';\n",
              "\n",
              "  const pickedPromise = new Promise((resolve) => {\n",
              "    inputElement.addEventListener('change', (e) => {\n",
              "      resolve(e.target.files);\n",
              "    });\n",
              "  });\n",
              "\n",
              "  const cancel = document.createElement('button');\n",
              "  inputElement.parentElement.appendChild(cancel);\n",
              "  cancel.textContent = 'Cancel upload';\n",
              "  const cancelPromise = new Promise((resolve) => {\n",
              "    cancel.onclick = () => {\n",
              "      resolve(null);\n",
              "    };\n",
              "  });\n",
              "\n",
              "  // Wait for the user to pick the files.\n",
              "  const files = yield {\n",
              "    promise: Promise.race([pickedPromise, cancelPromise]),\n",
              "    response: {\n",
              "      action: 'starting',\n",
              "    }\n",
              "  };\n",
              "\n",
              "  cancel.remove();\n",
              "\n",
              "  // Disable the input element since further picks are not allowed.\n",
              "  inputElement.disabled = true;\n",
              "\n",
              "  if (!files) {\n",
              "    return {\n",
              "      response: {\n",
              "        action: 'complete',\n",
              "      }\n",
              "    };\n",
              "  }\n",
              "\n",
              "  for (const file of files) {\n",
              "    const li = document.createElement('li');\n",
              "    li.append(span(file.name, {fontWeight: 'bold'}));\n",
              "    li.append(span(\n",
              "        `(${file.type || 'n/a'}) - ${file.size} bytes, ` +\n",
              "        `last modified: ${\n",
              "            file.lastModifiedDate ? file.lastModifiedDate.toLocaleDateString() :\n",
              "                                    'n/a'} - `));\n",
              "    const percent = span('0% done');\n",
              "    li.appendChild(percent);\n",
              "\n",
              "    outputElement.appendChild(li);\n",
              "\n",
              "    const fileDataPromise = new Promise((resolve) => {\n",
              "      const reader = new FileReader();\n",
              "      reader.onload = (e) => {\n",
              "        resolve(e.target.result);\n",
              "      };\n",
              "      reader.readAsArrayBuffer(file);\n",
              "    });\n",
              "    // Wait for the data to be ready.\n",
              "    let fileData = yield {\n",
              "      promise: fileDataPromise,\n",
              "      response: {\n",
              "        action: 'continue',\n",
              "      }\n",
              "    };\n",
              "\n",
              "    // Use a chunked sending to avoid message size limits. See b/62115660.\n",
              "    let position = 0;\n",
              "    do {\n",
              "      const length = Math.min(fileData.byteLength - position, MAX_PAYLOAD_SIZE);\n",
              "      const chunk = new Uint8Array(fileData, position, length);\n",
              "      position += length;\n",
              "\n",
              "      const base64 = btoa(String.fromCharCode.apply(null, chunk));\n",
              "      yield {\n",
              "        response: {\n",
              "          action: 'append',\n",
              "          file: file.name,\n",
              "          data: base64,\n",
              "        },\n",
              "      };\n",
              "\n",
              "      let percentDone = fileData.byteLength === 0 ?\n",
              "          100 :\n",
              "          Math.round((position / fileData.byteLength) * 100);\n",
              "      percent.textContent = `${percentDone}% done`;\n",
              "\n",
              "    } while (position < fileData.byteLength);\n",
              "  }\n",
              "\n",
              "  // All done.\n",
              "  yield {\n",
              "    response: {\n",
              "      action: 'complete',\n",
              "    }\n",
              "  };\n",
              "}\n",
              "\n",
              "scope.google = scope.google || {};\n",
              "scope.google.colab = scope.google.colab || {};\n",
              "scope.google.colab._files = {\n",
              "  _uploadFiles,\n",
              "  _uploadFilesContinue,\n",
              "};\n",
              "})(self);\n",
              "</script> "
            ]
          },
          "metadata": {}
        },
        {
          "output_type": "stream",
          "name": "stdout",
          "text": [
            "Saving yellow_tripdata_2023-01.parquet to yellow_tripdata_2023-01.parquet\n"
          ]
        }
      ],
      "source": [
        "from google.colab import files\n",
        "uploaded = files.upload()"
      ]
    },
    {
      "cell_type": "code",
      "source": [
        "# Libraries\n",
        "import dask.dataframe as dd\n",
        "import polars as pl\n",
        "import matplotlib.pyplot as plt\n",
        "import time\n",
        "from memory_profiler import memory_usage"
      ],
      "metadata": {
        "id": "_UrmWlQ3KUfW"
      },
      "execution_count": null,
      "outputs": []
    },
    {
      "cell_type": "code",
      "source": [
        "file_path = 'yellow_tripdata_2023-01.parquet'"
      ],
      "metadata": {
        "id": "cvUzW0vtLwD5"
      },
      "execution_count": null,
      "outputs": []
    },
    {
      "cell_type": "code",
      "source": [
        "#Step 2: Data Cleaning - Drop NA\n",
        "# ---------------------------\n",
        "\n",
        "print(\"\\nMeasuring dropna/drop_nulls performance...\")\n",
        "\n",
        "# Dropna in Dask\n",
        "start = time.time()\n",
        "dask_memory_clean = measure_memory(df_dask.dropna, subset=['trip_distance', 'fare_amount'])\n",
        "df_dask_clean = df_dask.dropna(subset=['trip_distance', 'fare_amount'])\n",
        "dask_dropped_rows = df_dask.shape[0].compute() - df_dask_clean.shape[0].compute()\n",
        "end = time.time()\n",
        "dask_dropna_time = end - start\n",
        "\n",
        "# Drop nulls in Polars\n",
        "start = time.time()\n",
        "def drop_nulls_polars():\n",
        "    return df_polars.drop_nulls(subset=['trip_distance', 'fare_amount']).collect()\n",
        "\n",
        "polars_memory_clean = measure_memory(drop_nulls_polars)\n",
        "df_polars_clean = drop_nulls_polars()\n",
        "polars_dropped_rows = df_polars.collect().height - df_polars_clean.height\n",
        "end = time.time()\n",
        "polars_dropna_time = end - start\n",
        "\n",
        "print(f\"Dask Drop NA Time: {dask_dropna_time:.2f}s, Memory: {dask_memory_clean:.2f} MiB, Rows Dropped: {dask_dropped_rows}\")\n",
        "print(f\"Polars Drop Nulls Time: {polars_dropna_time:.2f}s, Memory: {polars_memory_clean:.2f} MiB, Rows Dropped: {polars_dropped_rows}\")\n"
      ],
      "metadata": {
        "colab": {
          "base_uri": "https://localhost:8080/"
        },
        "id": "TYn95p92KlI_",
        "outputId": "9b426e9d-9639-499f-c8fa-3d90096a55c3"
      },
      "execution_count": null,
      "outputs": [
        {
          "output_type": "stream",
          "name": "stdout",
          "text": [
            "\n",
            "Measuring dropna/drop_nulls performance...\n",
            "Dask Drop NA Time: 7.94s, Memory: 1910.92 MiB, Rows Dropped: 0\n",
            "Polars Drop Nulls Time: 2.17s, Memory: 2824.08 MiB, Rows Dropped: 0\n"
          ]
        }
      ]
    },
    {
      "cell_type": "code",
      "source": [
        "# Step 3: Aggregation\n",
        "# ---------------------------\n",
        "\n",
        "print(\"\\nMeasuring aggregation performance...\")\n",
        "\n",
        "# Aggregation in Dask\n",
        "start = time.time()\n",
        "mean_dask = df_dask_clean['trip_distance'].mean().compute()\n",
        "median_dask = df_dask_clean['trip_distance'].quantile(0.5).compute()\n",
        "end = time.time()\n",
        "dask_agg_time = end - start\n",
        "\n",
        "# Aggregation in Polars\n",
        "start = time.time()\n",
        "mean_polars = df_polars_clean['trip_distance'].mean()\n",
        "median_polars = df_polars_clean['trip_distance'].median()\n",
        "end = time.time()\n",
        "polars_agg_time = end - start\n",
        "\n",
        "print(f\"Dask Aggregation - Mean: {mean_dask:.2f}, Median: {median_dask:.2f}, Time: {dask_agg_time:.2f}s\")\n",
        "print(f\"Polars Aggregation - Mean: {mean_polars:.2f}, Median: {median_polars:.2f}, Time: {polars_agg_time:.2f}s\")\n"
      ],
      "metadata": {
        "colab": {
          "base_uri": "https://localhost:8080/"
        },
        "id": "fD5uaiEIKtgN",
        "outputId": "837acc80-d0bc-41bb-d8f4-529d77301da2"
      },
      "execution_count": null,
      "outputs": [
        {
          "output_type": "stream",
          "name": "stdout",
          "text": [
            "\n",
            "Measuring aggregation performance...\n",
            "Dask Aggregation - Mean: 3.85, Median: 1.80, Time: 4.93s\n",
            "Polars Aggregation - Mean: 3.85, Median: 1.80, Time: 0.06s\n"
          ]
        }
      ]
    },
    {
      "cell_type": "code",
      "source": [
        "# Libraries\n",
        "import dask.dataframe as dd\n",
        "import polars as pl\n",
        "import matplotlib.pyplot as plt\n",
        "import time\n",
        "from memory_profiler import memory_usage\n",
        "\n",
        "# File path\n",
        "file_path = 'yellow_tripdata_2023-01.parquet'"
      ],
      "metadata": {
        "id": "ZsRBdzklReem"
      },
      "execution_count": null,
      "outputs": []
    },
    {
      "cell_type": "code",
      "source": [
        "# Step 1: Dataset Load\n",
        "# ---------------------------\n",
        "\n",
        "# Memory profiler wrapper\n",
        "def measure_memory(func, *args, **kwargs):\n",
        "    mem_usage = memory_usage((func, args, kwargs))\n",
        "    return max(mem_usage)\n",
        "\n",
        "# Function to load dataset using Dask\n",
        "def load_dask():\n",
        "    return dd.read_parquet(file_path)\n",
        "    dd.shape()\n",
        "\n",
        "# Function to load dataset using Polars\n",
        "def load_polars():\n",
        "    return pl.scan_parquet(file_path)  # Lazy loading\n",
        "\n",
        "# Measure Load Time and Memory\n",
        "print(\"Measuring dataset load performance...\")\n",
        "start = time.time()\n",
        "dask_memory = measure_memory(load_dask)\n",
        "df_dask = load_dask()\n",
        "end = time.time()\n",
        "dask_load_time = end - start\n",
        "\n",
        "start = time.time()\n",
        "polars_memory = measure_memory(load_polars)\n",
        "df_polars = load_polars()\n",
        "end = time.time()\n",
        "polars_load_time = end - start\n",
        "\n",
        "print(f\"Dask Load Time: {dask_load_time:.2f}s, Memory: {dask_memory:.2f} MiB\")\n",
        "print(f\"Polars Load Time: {polars_load_time:.2f}s, Memory: {polars_memory:.2f} MiB\")"
      ],
      "metadata": {
        "colab": {
          "base_uri": "https://localhost:8080/"
        },
        "id": "fpAh5ZPtRidg",
        "outputId": "c43fe26e-73ba-47f2-d3d2-e794502fdfb0"
      },
      "execution_count": null,
      "outputs": [
        {
          "output_type": "stream",
          "name": "stdout",
          "text": [
            "Measuring dataset load performance...\n",
            "Dask Load Time: 0.65s, Memory: 1040.12 MiB\n",
            "Polars Load Time: 1.04s, Memory: 1040.12 MiB\n"
          ]
        }
      ]
    },
    {
      "cell_type": "code",
      "source": [
        "# ---------------------------\n",
        "# Step 2: Data Cleaning - Drop NA\n",
        "# ---------------------------\n",
        "\n",
        "print(\"\\nMeasuring dropna/drop_nulls performance...\")\n",
        "\n",
        "# Dropna in Dask\n",
        "start = time.time()\n",
        "dask_memory_clean = measure_memory(df_dask.dropna, subset=['trip_distance', 'fare_amount'])\n",
        "df_dask_clean = df_dask.dropna(subset=['trip_distance', 'fare_amount'])\n",
        "dask_dropped_rows = df_dask.shape[0].compute() - df_dask_clean.shape[0].compute()\n",
        "end = time.time()\n",
        "dask_dropna_time = end - start\n",
        "\n",
        "# Drop nulls in Polars\n",
        "start = time.time()\n",
        "def drop_nulls_polars():\n",
        "    return df_polars.drop_nulls(subset=['trip_distance', 'fare_amount']).collect()\n",
        "\n",
        "polars_memory_clean = measure_memory(drop_nulls_polars)\n",
        "df_polars_clean = drop_nulls_polars()\n",
        "polars_dropped_rows = df_polars.collect().height - df_polars_clean.height\n",
        "end = time.time()\n",
        "polars_dropna_time = end - start\n",
        "\n",
        "print(f\"Dask Drop NA Time: {dask_dropna_time:.2f}s, Memory: {dask_memory_clean:.2f} MiB, Rows Dropped: {dask_dropped_rows}\")\n",
        "print(f\"Polars Drop Nulls Time: {polars_dropna_time:.2f}s, Memory: {polars_memory_clean:.2f} MiB, Rows Dropped: {polars_dropped_rows}\")"
      ],
      "metadata": {
        "colab": {
          "base_uri": "https://localhost:8080/"
        },
        "id": "LOavAAhbRfiK",
        "outputId": "e367a1ea-2edf-4285-daf3-cda232291387"
      },
      "execution_count": null,
      "outputs": [
        {
          "output_type": "stream",
          "name": "stdout",
          "text": [
            "\n",
            "Measuring dropna/drop_nulls performance...\n",
            "Dask Drop NA Time: 13.64s, Memory: 1024.70 MiB, Rows Dropped: 0\n",
            "Polars Drop Nulls Time: 3.21s, Memory: 1573.48 MiB, Rows Dropped: 0\n"
          ]
        }
      ]
    },
    {
      "cell_type": "code",
      "source": [
        "# ---------------------------\n",
        "# Step 3: Aggregation\n",
        "# ---------------------------\n",
        "\n",
        "print(\"\\nMeasuring aggregation performance...\")\n",
        "\n",
        "# Aggregation in Dask\n",
        "start = time.time()\n",
        "mean_dask = df_dask_clean['trip_distance'].mean().compute()\n",
        "median_dask = df_dask_clean['trip_distance'].quantile(0.5).compute()\n",
        "end = time.time()\n",
        "dask_agg_time = end - start\n",
        "\n",
        "# Aggregation in Polars\n",
        "start = time.time()\n",
        "mean_polars = df_polars_clean['trip_distance'].mean()\n",
        "median_polars = df_polars_clean['trip_distance'].median()\n",
        "end = time.time()\n",
        "polars_agg_time = end - start\n",
        "\n",
        "print(f\"Dask Aggregation - Mean: {mean_dask:.2f}, Median: {median_dask:.2f}, Time: {dask_agg_time:.2f}s\")\n",
        "print(f\"Polars Aggregation - Mean: {mean_polars:.2f}, Median: {median_polars:.2f}, Time: {polars_agg_time:.2f}s\")\n"
      ],
      "metadata": {
        "colab": {
          "base_uri": "https://localhost:8080/"
        },
        "id": "_7I2iz8uRn1i",
        "outputId": "9dbbdc6d-0149-4a5a-8dba-a5a0ce1891c1"
      },
      "execution_count": null,
      "outputs": [
        {
          "output_type": "stream",
          "name": "stdout",
          "text": [
            "\n",
            "Measuring aggregation performance...\n",
            "Dask Aggregation - Mean: 3.85, Median: 1.80, Time: 6.07s\n",
            "Polars Aggregation - Mean: 3.85, Median: 1.80, Time: 0.04s\n"
          ]
        }
      ]
    },
    {
      "cell_type": "code",
      "source": [
        "# ---------------------------\n",
        "# Step 4: Visualize Results\n",
        "# ---------------------------\n",
        "\n",
        "# Execution Time Comparison\n",
        "steps = ['Load', 'Drop NA', 'Aggregation']\n",
        "dask_times = [dask_load_time, dask_dropna_time, dask_agg_time]\n",
        "polars_times = [polars_load_time, polars_dropna_time, polars_agg_time]\n",
        "\n",
        "plt.figure(figsize=(10, 6))\n",
        "plt.plot(steps, dask_times, marker='o', label='Dask', color='blue')\n",
        "plt.plot(steps, polars_times, marker='o', label='Polars', color='orange')\n",
        "plt.title('Dask vs Polars Execution Time')\n",
        "plt.xlabel('Pipeline Steps')\n",
        "plt.ylabel('Time (seconds)')\n",
        "plt.legend()\n",
        "plt.grid()\n",
        "plt.show()\n"
      ],
      "metadata": {
        "colab": {
          "base_uri": "https://localhost:8080/",
          "height": 584
        },
        "id": "_3JkKsoIRwKa",
        "outputId": "6468f1c4-fd33-4fcf-fc96-ba38a873f638"
      },
      "execution_count": null,
      "outputs": [
        {
          "output_type": "display_data",
          "data": {
            "text/plain": [
              "<Figure size 1000x600 with 1 Axes>"
            ],
            "image/png": "[encoded data removed]"
          },
          "metadata": {}
        }
      ]
    },
    {
      "cell_type": "code",
      "source": [
        "# Memory Usage Comparison\n",
        "dask_memory_usage = [dask_memory, dask_memory_clean]\n",
        "polars_memory_usage = [polars_memory, polars_memory_clean]\n",
        "\n",
        "plt.figure(figsize=(10, 6))\n",
        "x_labels = ['Load', 'Clean']\n",
        "plt.bar(x_labels, dask_memory_usage, color='blue', alpha=0.6, label='Dask')\n",
        "plt.bar(x_labels, polars_memory_usage, color='orange', alpha=0.6, label='Polars')\n",
        "plt.title('Dask vs Polars Memory Usage')\n",
        "plt.ylabel('Memory (MiB)')\n",
        "plt.legend()\n",
        "plt.show()\n"
      ],
      "metadata": {
        "colab": {
          "base_uri": "https://localhost:8080/",
          "height": 565
        },
        "id": "1Cyzxzq8Rz8B",
        "outputId": "3608acaf-b396-4351-bfc1-6cd3b48ab4e0"
      },
      "execution_count": null,
      "outputs": [
        {
          "output_type": "display_data",
          "data": {
            "text/plain": [
              "<Figure size 1000x600 with 1 Axes>"
            ],
            "image/png": "[encoded data removed]"
          },
          "metadata": {}
        }
      ]
    },
    {
      "cell_type": "code",
      "source": [
        "# Processing Time Comparison\n",
        "processing_times = [dask_stats_time, polars_stats_time]\n",
        "clean_times = [dask_clean_time, polars_clean_time]\n",
        "\n",
        "plt.figure(figsize=(8, 5))\n",
        "plt.bar(frameworks, clean_times, label='Cleaning Time', color='green')\n",
        "plt.bar(frameworks, processing_times, label='Stats Calculation Time', color='purple')\n",
        "plt.ylabel('Time (seconds)')\n",
        "plt.title('Processing Time Comparison')\n",
        "plt.legend()\n",
        "plt.show()"
      ],
      "metadata": {
        "colab": {
          "base_uri": "https://localhost:8080/",
          "height": 488
        },
        "id": "8ZXchnZMR4Mq",
        "outputId": "01665d58-6787-41fd-e3d3-fa8b6b4780bd"
      },
      "execution_count": null,
      "outputs": [
        {
          "output_type": "display_data",
          "data": {
            "text/plain": [
              "<Figure size 800x500 with 1 Axes>"
            ],
            "image/png": "[encoded data removed]"
          },
          "metadata": {}
        }
      ]
    },
    {
      "cell_type": "code",
      "source": [
        "\n",
        "# Final Results Summary\n",
        "print(\"\\nSummary:\")\n",
        "print(f\"Dask Total Time: {sum(dask_times):.2f}s, Total Memory Used: {sum(dask_memory_usage):.2f} MiB\")\n",
        "print(f\"Polars Total Time: {sum(polars_times):.2f}s, Total Memory Used: {sum(polars_memory_usage):.2f} MiB\")"
      ],
      "metadata": {
        "colab": {
          "base_uri": "https://localhost:8080/"
        },
        "id": "jIdMQ9CyR7HG",
        "outputId": "06d90f11-cfb1-4e7e-b919-df7637ddf41c"
      },
      "execution_count": null,
      "outputs": [
        {
          "output_type": "stream",
          "name": "stdout",
          "text": [
            "\n",
            "Summary:\n",
            "Dask Total Time: 20.01s, Total Memory Used: 2049.46 MiB\n",
            "Polars Total Time: 3.69s, Total Memory Used: 2598.25 MiB\n"
          ]
        }
      ]
    },
    {
      "cell_type": "code",
      "source": [],
      "metadata": {
        "id": "vDTAtnzONHV2"
      },
      "execution_count": null,
      "outputs": []
    }
  ]
}